{
  "nbformat": 4,
  "nbformat_minor": 0,
  "metadata": {
    "colab": {
      "provenance": [],
      "authorship_tag": "ABX9TyOfzuA5t1w81q9n2Ad6KxsK",
      "include_colab_link": true
    },
    "kernelspec": {
      "name": "python3",
      "display_name": "Python 3"
    },
    "language_info": {
      "name": "python"
    }
  },
  "cells": [
    {
      "cell_type": "markdown",
      "metadata": {
        "id": "view-in-github",
        "colab_type": "text"
      },
      "source": [
        "<a href=\"https://colab.research.google.com/github/MedhaHegde66/medha-github-workshop/blob/main/IAI11_08.ipynb\" target=\"_parent\"><img src=\"https://colab.research.google.com/assets/colab-badge.svg\" alt=\"Open In Colab\"/></a>"
      ]
    },
    {
      "cell_type": "code",
      "execution_count": 1,
      "metadata": {
        "colab": {
          "base_uri": "https://localhost:8080/"
        },
        "id": "a78d8IuUwJ6M",
        "outputId": "4b5c8172-e637-46e7-dc3d-923f58e9b40c"
      },
      "outputs": [
        {
          "output_type": "stream",
          "name": "stdout",
          "text": [
            "Enter a letter: i\n",
            "Enter a word: sike\n",
            "The letter 'i' is present in the word 'sike'.\n"
          ]
        }
      ],
      "source": [
        "def letter_check(letter, word):\n",
        "    if letter in word:\n",
        "        return True\n",
        "    else:\n",
        "        return False\n",
        "\n",
        "# Taking input from the user\n",
        "letter = input(\"Enter a letter: \")\n",
        "word = input(\"Enter a word: \")\n",
        "\n",
        "if letter_check(letter, word):\n",
        "    print(f\"The letter '{letter}' is present in the word '{word}'.\")\n",
        "else:\n",
        "    print(f\"The letter '{letter}' is not present in the word '{word}'.\")\n"
      ]
    },
    {
      "cell_type": "code",
      "source": [
        "import itertools\n",
        "\n",
        "def distance(city1, city2):\n",
        "\n",
        "    return ((city1[0] - city2[0])**2 + (city1[1] - city2[1])**2)**0.5\n",
        "\n",
        "def total_distance(path, cities):\n",
        "    total = 0\n",
        "    for i in range(len(path) - 1):\n",
        "        total += distance(cities[path[i]], cities[path[i + 1]])\n",
        "    total += distance(cities[path[-1]], cities[path[0]])  # Return to starting city\n",
        "    return total\n",
        "\n",
        "def solve_tsp(cities):\n",
        "    num_cities = len(cities)\n",
        "    best_path = None\n",
        "    min_distance = float('inf')\n",
        "\n",
        "    for perm in itertools.permutations(range(num_cities)):\n",
        "        current_distance = total_distance(perm, cities)\n",
        "        if current_distance < min_distance:\n",
        "            min_distance = current_distance\n",
        "            best_path = perm\n",
        "\n",
        "    return best_path, min_distance\n",
        "\n",
        "# Example cities represented as (x, y) coordinates\n",
        "cities = [(0, 0), (1, 3), (4, 6), (7, 1)]\n",
        "\n",
        "best_path, min_distance = solve_tsp(cities)\n",
        "\n",
        "print(\"Best path:\", best_path)\n",
        "print(\"Minimum distance:\", min_distance)\n"
      ],
      "metadata": {
        "colab": {
          "base_uri": "https://localhost:8080/"
        },
        "id": "Wd9Z2nb_yEZ0",
        "outputId": "80cb2a08-febe-49cf-becb-61c3f9f1a5ce"
      },
      "execution_count": 2,
      "outputs": [
        {
          "output_type": "stream",
          "name": "stdout",
          "text": [
            "Best path: (0, 1, 2, 3)\n",
            "Minimum distance: 20.30693805399844\n"
          ]
        }
      ]
    },
    {
      "cell_type": "code",
      "source": [
        "class WumpusWorld:\n",
        "    def __init__(self, size):\n",
        "        self.size = size\n",
        "        self.grid = [[' ' for _ in range(size)] for _ in range(size)]\n",
        "        self.agent_position = (0, 0)\n",
        "        self.has_gold = False\n",
        "        self.has_wumpus = False\n",
        "        self.has_pit = False\n",
        "\n",
        "    def move(self, direction):\n",
        "        x, y = self.agent_position\n",
        "        if direction == 'up' and x > 0:\n",
        "            self.agent_position = (x - 1, y)\n",
        "        elif direction == 'down' and x < self.size - 1:\n",
        "            self.agent_position = (x + 1, y)\n",
        "        elif direction == 'left' and y > 0:\n",
        "            self.agent_position = (x, y - 1)\n",
        "        elif direction == 'right' and y < self.size - 1:\n",
        "            self.agent_position = (x, y + 1)\n",
        "\n",
        "    def shoot(self):\n",
        "        pass  # Implement shooting logic here\n",
        "\n",
        "    def perceive(self):\n",
        "        x, y = self.agent_position\n",
        "        perceptions = []\n",
        "\n",
        "        if self.grid[x][y] == 'W':\n",
        "            perceptions.append('Stench')\n",
        "        if self.grid[x][y] == 'P':\n",
        "            perceptions.append('Breeze')\n",
        "        if self.grid[x][y] == 'G':\n",
        "            perceptions.append('Glitter')\n",
        "\n",
        "        return perceptions\n",
        "\n",
        "    def perform_action(self, action):\n",
        "        if action == 'move':\n",
        "            self.move(self.agent_position)\n",
        "        elif action == 'shoot':\n",
        "            self.shoot()\n",
        "\n",
        "    def solve(self):\n",
        "        visited = set()\n",
        "\n",
        "        def dfs(position):\n",
        "            if position in visited:\n",
        "                return\n",
        "            visited.add(position)\n",
        "\n",
        "            # Perform actions based on perceptions\n",
        "            perceptions = self.perceive()\n",
        "            if 'Glitter' in perceptions:\n",
        "                self.has_gold = True\n",
        "            if 'Stench' in perceptions:\n",
        "                self.has_wumpus = True\n",
        "            if 'Breeze' in perceptions:\n",
        "                self.has_pit = True\n",
        "\n",
        "            # Recursive DFS for neighboring cells\n",
        "            for direction in ['up', 'down', 'left', 'right']:\n",
        "                self.move(direction)\n",
        "                next_position = self.agent_position\n",
        "                if next_position not in visited:\n",
        "                    dfs(next_position)\n",
        "                self.move(direction)  # Move back\n",
        "\n",
        "        dfs(self.agent_position)\n",
        "\n",
        "\n",
        "# Create a Wumpus World of size 4x4\n",
        "world = WumpusWorld(size=4)\n",
        "\n",
        "# Initialize the grid with objects (Wumpus, Pit, Gold)\n",
        "world.grid[1][1] = 'W'\n",
        "world.grid[2][2] = 'P'\n",
        "world.grid[3][3] = 'G'\n",
        "\n",
        "# Solve the Wumpus World problem\n",
        "world.solve()\n",
        "\n",
        "# Print the agent's final state and perceptions\n",
        "print(\"Agent's final position:\", world.agent_position)\n",
        "print(\"Has Gold:\", world.has_gold)\n",
        "print(\"Has Wumpus:\", world.has_wumpus)\n",
        "print(\"Has Pit:\", world.has_pit)\n"
      ],
      "metadata": {
        "colab": {
          "base_uri": "https://localhost:8080/"
        },
        "id": "ub2KEeCu2HFl",
        "outputId": "c4a8e10e-5c1e-4445-c4a3-75c1fb263e79"
      },
      "execution_count": 3,
      "outputs": [
        {
          "output_type": "stream",
          "name": "stdout",
          "text": [
            "Agent's final position: (3, 3)\n",
            "Has Gold: True\n",
            "Has Wumpus: True\n",
            "Has Pit: True\n"
          ]
        }
      ]
    },
    {
      "cell_type": "code",
      "source": [
        "import heapq\n",
        "\n",
        "class PuzzleNode:\n",
        "    def __init__(self, state, parent=None, action=None):\n",
        "        self.state = state\n",
        "        self.parent = parent\n",
        "        self.action = action\n",
        "        self.cost = 0 if parent is None else parent.cost + 1\n",
        "\n",
        "    def __lt__(self, other):\n",
        "        return (self.cost + self.heuristic()) < (other.cost + other.heuristic())\n",
        "\n",
        "    def heuristic(self):\n",
        "        # Manhattan distance heuristic\n",
        "        total_distance = 0\n",
        "        for i in range(3):\n",
        "            for j in range(3):\n",
        "                value = self.state[i][j]\n",
        "                if value != 0:\n",
        "                    goal_i, goal_j = divmod(value - 1, 3)\n",
        "                    total_distance += abs(i - goal_i) + abs(j - goal_j)\n",
        "        return total_distance\n",
        "\n",
        "    def generate_children(self):\n",
        "        children = []\n",
        "        i, j = next((i, j) for i in range(3) for j in range(3) if self.state[i][j] == 0)\n",
        "        for action, (di, dj) in [('up', (-1, 0)), ('down', (1, 0)), ('left', (0, -1)), ('right', (0, 1))]:\n",
        "            ni, nj = i + di, j + dj\n",
        "            if 0 <= ni < 3 and 0 <= nj < 3:\n",
        "                new_state = [row[:] for row in self.state]\n",
        "                new_state[i][j], new_state[ni][nj] = new_state[ni][nj], new_state[i][j]\n",
        "                children.append(PuzzleNode(new_state, parent=self, action=action))\n",
        "        return children\n",
        "\n",
        "    def get_solution(self):\n",
        "        solution = []\n",
        "        node = self\n",
        "        while node is not None:\n",
        "            if node.action:\n",
        "                solution.append(node.action)\n",
        "            node = node.parent\n",
        "        solution.reverse()\n",
        "        return solution\n",
        "\n",
        "def solve_8_puzzle(initial_state, goal_state):\n",
        "    initial_node = PuzzleNode(initial_state)\n",
        "    open_list = [initial_node]\n",
        "    closed_set = set()\n",
        "\n",
        "    while open_list:\n",
        "        current_node = heapq.heappop(open_list)\n",
        "        if current_node.state == goal_state:\n",
        "            return current_node.get_solution()\n",
        "\n",
        "        closed_set.add(tuple(map(tuple, current_node.state)))\n",
        "        children = current_node.generate_children()\n",
        "        for child in children:\n",
        "            if tuple(map(tuple, child.state)) not in closed_set:\n",
        "                heapq.heappush(open_list, child)\n",
        "\n",
        "    return None\n",
        "\n",
        "# Example initial and goal states\n",
        "initial_state = [[1, 2, 3], [4, 5, 0], [7, 8, 6]]\n",
        "goal_state = [[1, 2, 3], [4, 5, 6], [7, 8, 0]]\n",
        "\n",
        "# Solve the 8-puzzle problem\n",
        "solution = solve_8_puzzle(initial_state, goal_state)\n",
        "\n",
        "if solution:\n",
        "    print(\"Solution:\", solution)\n",
        "else:\n",
        "    print(\"No solution found.\")\n"
      ],
      "metadata": {
        "colab": {
          "base_uri": "https://localhost:8080/"
        },
        "id": "-cNvXGWZ2Ysc",
        "outputId": "10ce7b9e-7384-462e-9f3b-8e9220e47154"
      },
      "execution_count": 4,
      "outputs": [
        {
          "output_type": "stream",
          "name": "stdout",
          "text": [
            "Solution: ['down']\n"
          ]
        }
      ]
    },
    {
      "cell_type": "code",
      "source": [
        "class KnowledgeBase:\n",
        "    def __init__(self):\n",
        "        self.facts = set()\n",
        "\n",
        "    def tell(self, fact):\n",
        "        self.facts.add(fact)\n",
        "\n",
        "    def ask(self, query):\n",
        "        return query in self.facts\n",
        "\n",
        "\n",
        "def forward_chaining(kb, rules, target):\n",
        "    inferred = set()\n",
        "\n",
        "    while True:\n",
        "        new_inferred = set()\n",
        "        for rule in rules:\n",
        "            premise, conclusion = rule\n",
        "            if all(fact in inferred for fact in premise) and conclusion not in inferred:\n",
        "                new_inferred.add(conclusion)\n",
        "\n",
        "        if not new_inferred:\n",
        "            break\n",
        "\n",
        "        inferred.update(new_inferred)\n",
        "\n",
        "    return target in inferred\n",
        "\n",
        "\n",
        "def backward_chaining(kb, rules, target):\n",
        "    def bc(query):\n",
        "        if query in kb.facts:\n",
        "            return True\n",
        "\n",
        "        for rule in rules:\n",
        "            premise, conclusion = rule\n",
        "            if conclusion == query:\n",
        "                if all(bc(p) for p in premise):\n",
        "                    return True\n",
        "        return False\n",
        "\n",
        "    return bc(target)\n",
        "\n",
        "\n",
        "if __name__ == \"__main__\":\n",
        "    # Initialize knowledge base\n",
        "    kb = KnowledgeBase()\n",
        "\n",
        "    # Add facts to the knowledge base\n",
        "    kb.tell(\"learner's permit\")\n",
        "    kb.tell(\"age >= 18\")\n",
        "\n",
        "    # Define rules (premises, conclusion)\n",
        "    rules = [\n",
        "        ([\"age >= 18\", \"learner's permit\"], \"eligible for driver's license\")\n",
        "    ]\n",
        "\n",
        "    # Perform forward chaining and backward chaining\n",
        "    forward_result = forward_chaining(kb, rules, \"eligible for driver's license\")\n",
        "    backward_result = backward_chaining(kb, rules, \"eligible for driver's license\")\n",
        "\n",
        "    # Print results\n",
        "    print(\"Forward Chaining Result:\", forward_result)\n",
        "    print(\"Backward Chaining Result:\", backward_result)\n"
      ],
      "metadata": {
        "colab": {
          "base_uri": "https://localhost:8080/"
        },
        "id": "hc69WlQ226s8",
        "outputId": "51632e37-6a30-4d2b-9f91-343f45636a29"
      },
      "execution_count": 5,
      "outputs": [
        {
          "output_type": "stream",
          "name": "stdout",
          "text": [
            "Forward Chaining Result: False\n",
            "Backward Chaining Result: True\n"
          ]
        }
      ]
    }
  ]
}